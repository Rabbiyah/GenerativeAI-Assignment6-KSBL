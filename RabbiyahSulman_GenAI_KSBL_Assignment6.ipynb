{
  "nbformat": 4,
  "nbformat_minor": 0,
  "metadata": {
    "colab": {
      "provenance": [],
      "gpuType": "T4",
      "authorship_tag": "ABX9TyNHrV8xAkRZZ+XonQiuBc09",
      "include_colab_link": true
    },
    "kernelspec": {
      "name": "python3",
      "display_name": "Python 3"
    },
    "language_info": {
      "name": "python"
    },
    "accelerator": "GPU"
  },
  "cells": [
    {
      "cell_type": "markdown",
      "metadata": {
        "id": "view-in-github",
        "colab_type": "text"
      },
      "source": [
        "<a href=\"https://colab.research.google.com/github/Rabbiyah/GenerativeAI-Assignment6-KSBL/blob/main/RabbiyahSulman_GenAI_KSBL_Assignment6.ipynb\" target=\"_parent\"><img src=\"https://colab.research.google.com/assets/colab-badge.svg\" alt=\"Open In Colab\"/></a>"
      ]
    },
    {
      "cell_type": "markdown",
      "source": [
        "Importing the necessary libraries"
      ],
      "metadata": {
        "id": "7GznAuPfDqDf"
      }
    },
    {
      "cell_type": "code",
      "execution_count": 1,
      "metadata": {
        "id": "FuQ5VWXwDc9U"
      },
      "outputs": [],
      "source": [
        "import pandas as pd\n",
        "import numpy as np\n",
        "import matplotlib.pyplot as plt\n",
        "import seaborn as sns\n",
        "from transformers import AutoTokenizer, AutoModel\n",
        "import torch\n",
        "from torch.utils.data import DataLoader, Dataset\n",
        "from torch.nn.utils.rnn import pad_sequence\n",
        "from sklearn.model_selection import train_test_split\n",
        "from sklearn.linear_model import LogisticRegression\n",
        "from sklearn.svm import SVC\n",
        "from sklearn.ensemble import RandomForestClassifier\n",
        "from sklearn.metrics import classification_report, confusion_matrix"
      ]
    },
    {
      "cell_type": "markdown",
      "source": [
        "Loading the file from Google Drive"
      ],
      "metadata": {
        "id": "xzsV4TvSEM0P"
      }
    },
    {
      "cell_type": "code",
      "source": [
        "from google.colab import drive\n",
        "drive.mount('/content/drive')"
      ],
      "metadata": {
        "colab": {
          "base_uri": "https://localhost:8080/"
        },
        "id": "xM3vYGH1Ds_B",
        "outputId": "f333aeed-e680-4792-ab2e-d3811a41eb85"
      },
      "execution_count": 2,
      "outputs": [
        {
          "output_type": "stream",
          "name": "stdout",
          "text": [
            "Mounted at /content/drive\n"
          ]
        }
      ]
    },
    {
      "cell_type": "code",
      "source": [
        "df = pd.read_csv('dataset_assignment_6.csv', header=None, names=[\",text,sentiment\"])"
      ],
      "metadata": {
        "id": "g_pPIsEUERDo"
      },
      "execution_count": 3,
      "outputs": []
    },
    {
      "cell_type": "markdown",
      "source": [
        "Data Pre-Processing"
      ],
      "metadata": {
        "id": "R2BmjmSnFf-1"
      }
    },
    {
      "cell_type": "markdown",
      "source": [
        "Splitting the text into columns based on the delimiter"
      ],
      "metadata": {
        "id": "naRhQYi8Fje6"
      }
    },
    {
      "cell_type": "code",
      "source": [
        "def split_text_into_columns(file_path):\n",
        "\n",
        "    # Split the 'raw_data' column into 'index', 'text', and 'sentiment'\n",
        "    df[['index', 'text', 'sentiment']] = df[',text,sentiment'].str.split(',', expand=True)\n",
        "\n",
        "    # Drop the 'raw_data' column\n",
        "    df.drop(columns=[',text,sentiment'], inplace=True)\n",
        "\n",
        "    return df"
      ],
      "metadata": {
        "id": "1tHKpeMrFUBj"
      },
      "execution_count": 4,
      "outputs": []
    },
    {
      "cell_type": "code",
      "source": [
        "file_path = 'dataset_assignment_6.csv'  # Replace with the actual path to your CSV file\n",
        "result_df = split_text_into_columns(file_path)\n",
        "print(result_df)"
      ],
      "metadata": {
        "colab": {
          "base_uri": "https://localhost:8080/"
        },
        "id": "_2lR_AikFnup",
        "outputId": "09c526fb-28fd-4b0d-b74e-8a9f15ba601e"
      },
      "execution_count": 5,
      "outputs": [
        {
          "output_type": "stream",
          "name": "stdout",
          "text": [
            "         index                                               text  sentiment\n",
            "0                                                            text  sentiment\n",
            "1            0                                               text          0\n",
            "2            1  rising cases of covid does not alarm me rising...          1\n",
            "3            2  please vote for chicagoindiaresolution marking...          0\n",
            "4            3  wishing all of you eidaladha hazrat ibrahim as...          1\n",
            "...        ...                                                ...        ...\n",
            "134344  134343  happydiwali to india from dgisi and dgispr you...          1\n",
            "134345  134344  india has been involved in many countries with...          1\n",
            "134346  134345  does anybody know website which ships pre orde...          0\n",
            "134347  134346  what hinted few weeks back in an interview wit...          0\n",
            "134348  134347  this is just slice of what we have pakistan na...          0\n",
            "\n",
            "[134349 rows x 3 columns]\n"
          ]
        }
      ]
    },
    {
      "cell_type": "code",
      "source": [],
      "metadata": {
        "id": "O4DTI5VJFrPA"
      },
      "execution_count": null,
      "outputs": []
    }
  ]
}